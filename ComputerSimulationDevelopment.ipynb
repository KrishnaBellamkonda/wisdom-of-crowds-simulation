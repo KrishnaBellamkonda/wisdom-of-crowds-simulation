{
 "cells": [
  {
   "cell_type": "markdown",
   "metadata": {},
   "source": [
    "# Wisdom of Crowds Development"
   ]
  },
  {
   "cell_type": "code",
   "execution_count": 69,
   "metadata": {},
   "outputs": [],
   "source": [
    "# Importing modules\n",
    "import numpy as np\n",
    "import matplotlib.pyplot as plt\n",
    "import matplotlib as mpl\n",
    "import os\n",
    "import seaborn as sns\n",
    "from random import choice\n",
    "import pandas as pd"
   ]
  },
  {
   "cell_type": "markdown",
   "metadata": {},
   "source": [
    "## Voting"
   ]
  },
  {
   "cell_type": "code",
   "execution_count": 2,
   "metadata": {},
   "outputs": [],
   "source": [
    "# Voters with probability of 51% o choosing a right voter\n",
    "# For argument sake, consider that candidate 0 is better\n",
    "voting_chance = 51 # 51% chance\n",
    "def voting(population, voting_chance):\n",
    "    votes_array = np.random.rand(population, 1)\n",
    "    votes = (votes_array<=voting_chance/100).astype(np.int32)\n",
    "    return votes"
   ]
  },
  {
   "cell_type": "code",
   "execution_count": 3,
   "metadata": {},
   "outputs": [],
   "source": [
    "# Making a varied sample \n",
    "possible_chance = np.arange(50, 81)\n",
    "means = []\n",
    "for in_ in range(1000):\n",
    "    for i in range(100):\n",
    "        vote_chance = choice(possible_chance)\n",
    "        if i == 0:\n",
    "            start = voting(100, vote_chance)\n",
    "        else: \n",
    "            votes_array = voting(100, vote_chance)\n",
    "            start = np.r_[start, votes_array]\n",
    "    mean = start.mean()\n",
    "    means.append(mean)\n",
    "means = np.array(means)"
   ]
  },
  {
   "cell_type": "code",
   "execution_count": 4,
   "metadata": {},
   "outputs": [
    {
     "data": {
      "text/plain": [
       "0.649827"
      ]
     },
     "execution_count": 4,
     "metadata": {},
     "output_type": "execute_result"
    }
   ],
   "source": [
    "means.mean()"
   ]
  },
  {
   "cell_type": "markdown",
   "metadata": {},
   "source": [
    "## Randomized Model building"
   ]
  },
  {
   "cell_type": "code",
   "execution_count": 140,
   "metadata": {},
   "outputs": [],
   "source": [
    "prob = np.random.rand()"
   ]
  },
  {
   "cell_type": "code",
   "execution_count": 141,
   "metadata": {},
   "outputs": [],
   "source": [
    "# Building a randomize dmodel.\n",
    "model_percentage = 30\n",
    "mask_limit = 10\n",
    "# Area to be covered is 30\n",
    "threshold_start = choice(np.arange(99))\n",
    "available_range = min(100-threshold_start, mask_limit)\n",
    "threshold_end = choice(np.arange(threshold_start+1, threshold_start+available_range+1))\n",
    "mask = (prob>=threshold_start) & (prob<=threshold_end)"
   ]
  },
  {
   "cell_type": "code",
   "execution_count": 142,
   "metadata": {},
   "outputs": [],
   "source": [
    "# Controls \n",
    "total_percentage = 30\n",
    "max_size = 10"
   ]
  },
  {
   "cell_type": "code",
   "execution_count": 143,
   "metadata": {},
   "outputs": [],
   "source": [
    "# Random threshold between 0 and 1\n",
    "thresholds = np.arange(0, 100) # All thrsholds\n",
    "# Start \n",
    "start_thres = np.choice(thresholds)\n"
   ]
  },
  {
   "cell_type": "markdown",
   "metadata": {},
   "source": [
    "### Breaking the problem "
   ]
  },
  {
   "cell_type": "code",
   "execution_count": 5,
   "metadata": {},
   "outputs": [
    {
     "name": "stdout",
     "output_type": "stream",
     "text": [
      "10\n",
      "4\n",
      "5\n",
      "10\n",
      "1\n"
     ]
    }
   ],
   "source": [
    "# A program which gets random numbers which add to a certain number\n",
    "number = 30 \n",
    "net_sum = 0\n",
    "available_spaces = number\n",
    "max_limit = 10\n",
    "sizes = []\n",
    "while net_sum != number:\n",
    "    av = min(available_spaces, max_limit)\n",
    "    c = choice(np.arange(1,av+1))\n",
    "    net_sum += c\n",
    "    available_spaces -= c\n",
    "    print(c)\n",
    "    sizes.append(c)"
   ]
  },
  {
   "cell_type": "code",
   "execution_count": 3,
   "metadata": {},
   "outputs": [],
   "source": [
    "# Create random numbers which add up to a certain number\n",
    "def threshold_sizes(number, max_limit):\n",
    "    sizes = []\n",
    "    net_sum = 0\n",
    "    available_spaces = number\n",
    "    while net_sum!=number:\n",
    "        av= min(available_spaces, max_limit)\n",
    "        c = choice(np.arange(1, av+1))\n",
    "        net_sum += c\n",
    "        available_spaces -= c\n",
    "        sizes.append(c)\n",
    "    return sizes"
   ]
  },
  {
   "cell_type": "code",
   "execution_count": 7,
   "metadata": {},
   "outputs": [],
   "source": [
    "# Make start and end threshold with the size\n",
    "all_indices = np.arange(0, 100)\n",
    "mask = np.ones(len(all_indices),dtype = \"bool\")"
   ]
  },
  {
   "cell_type": "code",
   "execution_count": 8,
   "metadata": {},
   "outputs": [
    {
     "name": "stdout",
     "output_type": "stream",
     "text": [
      "28 - 38\n",
      "91 - 95\n",
      "70 - 75\n",
      "81 - 91\n",
      "80 - 81\n"
     ]
    }
   ],
   "source": [
    "# Creating a random threhsold \n",
    "for i in sizes:\n",
    "    max_ = 100-i\n",
    "    temp_mask = np.ones(len(all_indices), dtype = \"bool\")\n",
    "    temp_mask[max_:] = False\n",
    "    combined_mask = mask & temp_mask\n",
    "    threshold = choice(all_indices[combined_mask])\n",
    "    # Marking taken indices as false\n",
    "    mask[threshold:threshold+i] = False\n",
    "    end_threshold = threshold+i\n",
    "    print(threshold,\"-\", end_threshold)"
   ]
  },
  {
   "cell_type": "code",
   "execution_count": 9,
   "metadata": {},
   "outputs": [
    {
     "name": "stdout",
     "output_type": "stream",
     "text": [
      "83 - 93\n",
      "79 - 83\n",
      "92 - 97\n",
      "73 - 83\n",
      "79 - 80\n"
     ]
    }
   ],
   "source": [
    "mask = np.ones((100), dtype = \"bool\")\n",
    "for i in sizes:\n",
    "    max_ = 100 - i\n",
    "    temp_mask = np.ones((100), dtype = \"bool\")\n",
    "    temp_mask[max_:] = False\n",
    "    combined_mask = (temp_mask)&(mask)\n",
    "    # Choice\n",
    "    thresh = choice(all_indices[combined_mask])\n",
    "    while combined_mask[thresh:thresh+1+i].all() != False:\n",
    "        thresh = choice(all_indices[combined_mask])\n",
    "    print(thresh,\"-\", thresh+i)\n",
    "    # Updating mask\n",
    "    mask_copy = mask.copy()\n",
    "    mask_copy[threshold:threshold+i+1] = False\n",
    "    mask = mask_copy.copy()\n",
    "    #print(np.count_nonzero(combined_mask))"
   ]
  },
  {
   "cell_type": "code",
   "execution_count": 10,
   "metadata": {},
   "outputs": [
    {
     "name": "stdout",
     "output_type": "stream",
     "text": [
      "True\n",
      "79 - 89\n",
      "False\n",
      "79 - 83\n",
      "False\n",
      "79 - 84\n",
      "False\n",
      "79 - 89\n",
      "False\n",
      "79 - 80\n"
     ]
    }
   ],
   "source": [
    "# Attempt three\n",
    "all_indices = np.arange(100)\n",
    "mask = np.ones((100, ),dtype = \"bool\")\n",
    "mask[49: 54+1] = False\n",
    "for i in sizes:\n",
    "    temp_mask = np.ones((100), dtype = \"bool\")\n",
    "    temp_mask[100-i:] = False\n",
    "    combined_mask = (mask)&(temp_mask)\n",
    "    thesh = choice(all_indices[combined_mask])\n",
    "    end_thresh = thresh+i\n",
    "    mask[thresh:end_thresh+1] = False\n",
    "    print(combined_mask[thresh:end_thresh+1].all() )\n",
    "    print(thresh, \"-\", end_thresh)\n",
    "    "
   ]
  },
  {
   "cell_type": "code",
   "execution_count": null,
   "metadata": {},
   "outputs": [],
   "source": []
  },
  {
   "cell_type": "code",
   "execution_count": 11,
   "metadata": {},
   "outputs": [
    {
     "name": "stdout",
     "output_type": "stream",
     "text": [
      "2\n",
      "7\n"
     ]
    }
   ],
   "source": [
    "# Dont choose a number which is already chosen\n",
    "ten = np.arange(10)\n",
    "mask = np.ones((10, ), dtype = \"bool\")\n",
    "for i in range(2):\n",
    "    c = choice(ten[mask])\n",
    "    mask[c] = False\n",
    "    print(c)"
   ]
  },
  {
   "cell_type": "code",
   "execution_count": 12,
   "metadata": {},
   "outputs": [
    {
     "name": "stdout",
     "output_type": "stream",
     "text": [
      "2 - 3 - False\n",
      "6 - 9 - False\n"
     ]
    }
   ],
   "source": [
    "# Now choose a range\n",
    "ranges = [1,3]\n",
    "ten= np.arange(10)\n",
    "mask = np.ones((10,), dtype = \"bool\")\n",
    "for i in range(2):\n",
    "    size = ranges[i]\n",
    "    max_ = 10-size\n",
    "    temp_mask = np.ones((10, ), dtype=\"bool\")\n",
    "    temp_mask[max_:] = False\n",
    "    # Combined\n",
    "    combined_mask = (temp_mask)&(mask)\n",
    "    c = choice(ten[combined_mask])\n",
    "    while mask[c:c+size+1].all() == False:\n",
    "        c = choice(ten[combined_mask])\n",
    "    c_end = c+size\n",
    "    mask[c:c_end+1] = False\n",
    "    \n",
    "    print(c, \"-\", c_end, \"-\", mask[c:c_end+1].all())"
   ]
  },
  {
   "cell_type": "markdown",
   "metadata": {},
   "source": [
    "fits the problem "
   ]
  },
  {
   "cell_type": "code",
   "execution_count": 13,
   "metadata": {},
   "outputs": [
    {
     "name": "stdout",
     "output_type": "stream",
     "text": [
      "51 - 52 Diff -  1\n",
      "11 - 16 Diff -  5\n",
      "56 - 65 Diff -  9\n",
      "29 - 36 Diff -  7\n",
      "67 - 71 Diff -  4\n",
      "44 - 48 Diff -  4\n"
     ]
    }
   ],
   "source": [
    "ranges=[1, 5, 9, 7, 4, 4]\n",
    "hundred = np.arange(100)\n",
    "mask = np.ones((100,), dtype = \"bool\")\n",
    "for index, size in enumerate(ranges):\n",
    "    max_ = 100-size\n",
    "    # Temp mask\n",
    "    temp_mask = np.ones((100, ), dtype=\"bool\")\n",
    "    temp_mask[max_:] = False\n",
    "    # Combined Mask\n",
    "    combined_mask = (temp_mask)&(mask)\n",
    "    c = choice(hundred[combined_mask])\n",
    "    while mask[c:c+size+1].all() == False:\n",
    "        c = choice(hundred[combined_mask])\n",
    "    c_end = c+size\n",
    "    mask[c:c_end+1] = False\n",
    "    \n",
    "    print(c, \"-\", c_end, \"Diff - \", c_end-c)\n",
    "        "
   ]
  },
  {
   "cell_type": "code",
   "execution_count": 14,
   "metadata": {},
   "outputs": [],
   "source": [
    "# Solving the maximum problem \n",
    "# Solving the overlapping ranges problem \n",
    "# Solved the problem "
   ]
  },
  {
   "cell_type": "code",
   "execution_count": 4,
   "metadata": {},
   "outputs": [],
   "source": [
    "# into a function \n",
    "def max_min(ranges, population, probability):\n",
    "    # Outputs\n",
    "    starts = []\n",
    "    ends = []\n",
    "    # Program\n",
    "    mask = np.ones((population, ), dtype = \"bool\")\n",
    "    pop = np.arange(population)\n",
    "    for index, size in enumerate(ranges):\n",
    "        max_ = population-size\n",
    "        #Temp Mask\n",
    "        temp_mask = np.ones((population, ), dtype = \"bool\")\n",
    "        temp_mask[max_:] = False\n",
    "        # Combined Mask\n",
    "        combined_mask = (temp_mask)&(mask)\n",
    "        c = choice(pop[combined_mask])\n",
    "        it = 0\n",
    "        while mask[c:c+size+1].all() == False and it<10:\n",
    "            c = choice(pop[combined_mask])\n",
    "            it+= 1\n",
    "        if it ==10:\n",
    "            starts, ends = up_down(probability)\n",
    "        else:\n",
    "            c_end = c+size\n",
    "            mask[c:c_end+1] = False\n",
    "            starts.append(c)\n",
    "            ends.append(c_end)\n",
    "    \n",
    "    return (starts, ends)"
   ]
  },
  {
   "cell_type": "code",
   "execution_count": 5,
   "metadata": {},
   "outputs": [],
   "source": [
    "def up_down(probability):\n",
    "    rand_ = np.random.rand(1)\n",
    "    res  =rand_ <=0.5\n",
    "    if res == True:\n",
    "        start, end = [0], [probability]\n",
    "    else:\n",
    "        start, end = [100-probability], [100]\n",
    "    return start, end"
   ]
  },
  {
   "cell_type": "code",
   "execution_count": 17,
   "metadata": {},
   "outputs": [],
   "source": [
    "# Up or down \n",
    "probability = 70\n",
    "rand_ = np.random.rand(1)\n",
    "res = rand_ <=0.5\n",
    "if res ==True:\n",
    "    start, end = [0], [probability]\n",
    "else:\n",
    "    start, end = [100-probability], [100]\n"
   ]
  },
  {
   "cell_type": "code",
   "execution_count": 18,
   "metadata": {},
   "outputs": [
    {
     "data": {
      "text/plain": [
       "([30], [100])"
      ]
     },
     "execution_count": 18,
     "metadata": {},
     "output_type": "execute_result"
    }
   ],
   "source": [
    "start, end"
   ]
  },
  {
   "cell_type": "code",
   "execution_count": 19,
   "metadata": {},
   "outputs": [
    {
     "data": {
      "text/plain": [
       "array([0.89937818])"
      ]
     },
     "execution_count": 19,
     "metadata": {},
     "output_type": "execute_result"
    }
   ],
   "source": [
    "rand_"
   ]
  },
  {
   "cell_type": "code",
   "execution_count": 21,
   "metadata": {},
   "outputs": [
    {
     "name": "stdout",
     "output_type": "stream",
     "text": [
      "45 - 46\n",
      "25 - 28\n",
      "30 - 36\n",
      "69 - 78\n",
      "59 - 63\n",
      "90 - 92\n",
      "49 - 54\n"
     ]
    }
   ],
   "source": [
    "l, m = max_min([1, 3, 6, 9, 4, 2, 5], 100, 70)\n",
    "for l_s, m_s in zip(l, m):\n",
    "    print(l_s, \"-\", m_s)"
   ]
  },
  {
   "cell_type": "code",
   "execution_count": 22,
   "metadata": {},
   "outputs": [],
   "source": [
    "rand_number = np.random.rand(1)"
   ]
  },
  {
   "cell_type": "code",
   "execution_count": 23,
   "metadata": {},
   "outputs": [],
   "source": [
    "# Voting Mask maker\n",
    "all_numbers = np.arange(100)\n",
    "all_masks = []\n",
    "mask_original = np.zeros((100,), dtype = \"bool\")\n",
    "for l_s, l_m in zip(l, m):\n",
    "    mask1 = np.zeros((len(all_numbers), ), dtype= \"bool\")\n",
    "    mask1[l_s:l_m] = True\n",
    "    mask_original = (mask_original)|(mask1)\n",
    "    \n"
   ]
  },
  {
   "cell_type": "code",
   "execution_count": 6,
   "metadata": {},
   "outputs": [],
   "source": [
    "# Function mask builder\n",
    "def mask_maker(population, starts, ends):\n",
    "    all_numbers = np.arange(population)\n",
    "    mask_original = np.zeros((population), dtype = \"bool\")\n",
    "    for lower, upper in zip(starts, ends):\n",
    "        mask1 = np.zeros(population, dtype = \"bool\")\n",
    "        mask1[lower:upper] = True\n",
    "        mask_original = (mask_original)|(mask1)\n",
    "    return mask_original"
   ]
  },
  {
   "cell_type": "code",
   "execution_count": 7,
   "metadata": {},
   "outputs": [],
   "source": [
    "def accuracy(preds):\n",
    "    length = len(preds)\n",
    "    y_true = np.ones((length, ))\n",
    "    acc = accuracy_score(y_true, preds)\n",
    "    return acc"
   ]
  },
  {
   "cell_type": "code",
   "execution_count": 26,
   "metadata": {},
   "outputs": [
    {
     "data": {
      "text/plain": [
       "30"
      ]
     },
     "execution_count": 26,
     "metadata": {},
     "output_type": "execute_result"
    }
   ],
   "source": [
    "np.count_nonzero(mask_original)"
   ]
  },
  {
   "cell_type": "code",
   "execution_count": 30,
   "metadata": {},
   "outputs": [],
   "source": [
    "# See if the combination of all the three programs works\n",
    "tsizes = threshold_sizes(71, 5)\n",
    "tstart, tend = max_min(tsizes, 100, 71)\n",
    "tmask = mask_maker(100, tstart, tend)"
   ]
  },
  {
   "cell_type": "code",
   "execution_count": 31,
   "metadata": {},
   "outputs": [
    {
     "data": {
      "text/plain": [
       "71"
      ]
     },
     "execution_count": 31,
     "metadata": {},
     "output_type": "execute_result"
    }
   ],
   "source": [
    "np.count_nonzero(tmask) # Crazy"
   ]
  },
  {
   "cell_type": "code",
   "execution_count": 32,
   "metadata": {},
   "outputs": [
    {
     "data": {
      "text/plain": [
       "[3, 2, 5, 9, 18, 14, 6, 12, 1, 1]"
      ]
     },
     "execution_count": 32,
     "metadata": {},
     "output_type": "execute_result"
    }
   ],
   "source": [
    "sizes70 = threshold_sizes(71, 25)\n",
    "sizes70"
   ]
  },
  {
   "cell_type": "code",
   "execution_count": null,
   "metadata": {},
   "outputs": [],
   "source": [
    "tstart, tend = max_min(sizes70, 100)"
   ]
  },
  {
   "cell_type": "code",
   "execution_count": 315,
   "metadata": {},
   "outputs": [],
   "source": [
    "estimators = 1000\n",
    "population = 100\n",
    "predictors = []\n",
    "for est in range(50):\n",
    "    probability = choice(np.arange(51, 66))\n",
    "    tsizes = threshold_sizes(probability, 15)\n",
    "    tstart,tend = max_min(tsizes, population)\n",
    "    tmask = mask_maker(population, tstart, tend)\n",
    "    predictors.append(tmask)\n",
    "    "
   ]
  },
  {
   "cell_type": "code",
   "execution_count": 316,
   "metadata": {},
   "outputs": [],
   "source": [
    "# Using the predictors \n",
    "preds = []\n",
    "rand = np.random.rand(1)\n",
    "rand_ind = int(rand*100)\n",
    "for predict in predictors:\n",
    "    preds.append(predict[rand_ind])\n",
    "preds= np.array(preds)"
   ]
  },
  {
   "cell_type": "code",
   "execution_count": 317,
   "metadata": {},
   "outputs": [
    {
     "name": "stdout",
     "output_type": "stream",
     "text": [
      "0.66\n"
     ]
    }
   ],
   "source": [
    "print(preds.mean())\n",
    "results.append(preds.mean())"
   ]
  },
  {
   "cell_type": "code",
   "execution_count": 469,
   "metadata": {},
   "outputs": [],
   "source": [
    "# Controls \n",
    "estimators = 100\n",
    "population = 100"
   ]
  },
  {
   "cell_type": "code",
   "execution_count": 489,
   "metadata": {},
   "outputs": [],
   "source": [
    "# Predicting and results\n",
    "means=[]\n",
    "for runs in range(100):\n",
    "    predictors = []\n",
    "    for est in range(estimators):\n",
    "        probability = choice(np.arange(51, 52))\n",
    "        tsizes = threshold_sizes(probability, 15)\n",
    "        tstart,tend = max_min(tsizes, population, probability)\n",
    "        tmask = mask_maker(population, tstart, tend)\n",
    "        predictors.append(tmask)\n",
    "\n",
    "    preds = []\n",
    "    rand = np.random.rand()\n",
    "    rand_int = int(rand*100)\n",
    "    # Using the predictors\n",
    "    for predict in predictors:\n",
    "        preds.append(predict[rand_int])\n",
    "    preds = np.array(preds)\n",
    "    \n",
    "    # Calculate means \n",
    "    means.append(preds.mean())\n",
    "means = np.array(means)"
   ]
  },
  {
   "cell_type": "code",
   "execution_count": 490,
   "metadata": {},
   "outputs": [
    {
     "name": "stdout",
     "output_type": "stream",
     "text": [
      "0.73\n"
     ]
    }
   ],
   "source": [
    "# Accuracy predictions\n",
    "y_true = np.ones((100))\n",
    "from sklearn.metrics import accuracy_score\n",
    "predictions = (means>=0.5).astype(np.int32)\n",
    "accuracy = accuracy_score(y_true, (means>=0.5).astype(np.int32))\n",
    "print(accuracy)"
   ]
  },
  {
   "cell_type": "code",
   "execution_count": 491,
   "metadata": {},
   "outputs": [
    {
     "data": {
      "text/plain": [
       "Text(0.5, 1.0, 'Accuracy Score vs Expert Probability')"
      ]
     },
     "execution_count": 491,
     "metadata": {},
     "output_type": "execute_result"
    },
    {
     "data": {
      "image/png": "[encoded data removed]",
      "text/plain": [
       "<Figure size 432x288 with 1 Axes>"
      ]
     },
     "metadata": {
      "needs_background": "light"
     },
     "output_type": "display_data"
    }
   ],
   "source": [
    "runs = np.arange(1,11)\n",
    "plt.plot(y_true, predictions, \"-\", c = \"red\")\n",
    "plt.xlabel(\"Runs\", fontsize = 16)\n",
    "plt.ylabel(\"Accuracy Score\", fontsize = 16)\n",
    "plt.title(\"Accuracy Score vs Expert Probability\")"
   ]
  },
  {
   "cell_type": "code",
   "execution_count": 484,
   "metadata": {},
   "outputs": [
    {
     "data": {
      "text/plain": [
       "(100,)"
      ]
     },
     "execution_count": 484,
     "metadata": {},
     "output_type": "execute_result"
    }
   ],
   "source": [
    "y_true.shape"
   ]
  },
  {
   "cell_type": "markdown",
   "metadata": {},
   "source": [
    "### Testing"
   ]
  },
  {
   "cell_type": "code",
   "execution_count": 500,
   "metadata": {},
   "outputs": [],
   "source": [
    "# Controls \n",
    "estimators = 100\n",
    "population = 100"
   ]
  },
  {
   "cell_type": "code",
   "execution_count": 502,
   "metadata": {},
   "outputs": [],
   "source": [
    "# Function for predictions\n",
    "means=[]\n",
    "rand = np.random.rand()\n",
    "rand_int = int(rand*100)\n",
    "for runs in range(100):\n",
    "    predictors = []\n",
    "    for est in range(estimators):\n",
    "        probability = choice(np.arange(51, 52))\n",
    "        tsizes = threshold_sizes(probability, 15)\n",
    "        tstart,tend = max_min(tsizes, population, probability)\n",
    "        tmask = mask_maker(population, tstart, tend)\n",
    "        predictors.append(tmask)\n",
    "\n",
    "    preds = []\n",
    "    # Using the predictors\n",
    "    for predict in predictors:\n",
    "        preds.append(predict[rand_int])\n",
    "    preds = np.array(preds)\n",
    "    \n",
    "    # Calculate means \n",
    "    means.append(preds.mean())\n",
    "means = np.array(means)"
   ]
  },
  {
   "cell_type": "code",
   "execution_count": 503,
   "metadata": {},
   "outputs": [],
   "source": [
    "preds = np.ones((100))\n",
    "acc = accuracy_score(preds, (means>=0.5).astype(np.int32))"
   ]
  },
  {
   "cell_type": "code",
   "execution_count": 504,
   "metadata": {},
   "outputs": [
    {
     "data": {
      "text/plain": [
       "0.86"
      ]
     },
     "execution_count": 504,
     "metadata": {},
     "output_type": "execute_result"
    }
   ],
   "source": [
    "acc # Works fine "
   ]
  },
  {
   "cell_type": "markdown",
   "metadata": {},
   "source": [
    "***Working of the model***\n",
    "The model assumes that 1 is the acutal answer. Each voter (names as estimator in code) has some probability of voting 1 as the result. This probability is created a psuedo random approach. Each estimator then predicts the result on a random number (if the number lies within its ranges, the estimator predicts one). Now after all the individual votes have voted, the group takes a decision. THe group decision is basically the mean of the scores. If the score is above 0.5, the **group** predicts one. \n",
    "The accuracy score is calculated for set of groups with same parametrs and the values are stored. "
   ]
  },
  {
   "cell_type": "code",
   "execution_count": 506,
   "metadata": {},
   "outputs": [],
   "source": [
    "# Controls \n",
    "estimators = 100\n",
    "population = 100"
   ]
  },
  {
   "cell_type": "code",
   "execution_count": 558,
   "metadata": {},
   "outputs": [],
   "source": [
    "# Mask training and predictions\n",
    "accuracy_scores = []\n",
    "for runs in range(10):\n",
    "    group_predictions = [] # The predictions of each group are stored here\n",
    "    means = [] # The means of the estimators\n",
    "    rand = np.random.rand() # The number which whose value in range is being tested.\n",
    "    rand_int = int(rand*100) # Scaled to 100\n",
    "    for groups in range(100): # 100 groups are being trained\n",
    "        predictors = []\n",
    "        for est in range(estimators):# Estimator number\n",
    "            probability = choice(np.arange(45, 56))\n",
    "            tsizes = threshold_sizes(probability, 15)\n",
    "            tstart,tend = max_min(tsizes, population, probability)\n",
    "            tmask = mask_maker(population, tstart, tend)\n",
    "            predictors.append(tmask)\n",
    "\n",
    "        preds = []\n",
    "        # Using the predictors\n",
    "        for predict in predictors:\n",
    "            preds.append(predict[rand_int])\n",
    "        preds = np.array(preds)\n",
    "    \n",
    "        # Group Prediction (using the mean score) \n",
    "        group_predictions.append((preds.mean()>=0.50).astype(np.int32))\n",
    "        means.append(preds.mean())\n",
    "\n",
    "    # Converting the list into an array\n",
    "    group_predictions = np.array(group_predictions)\n",
    "    means = np.array(means)\n",
    "    \n",
    "    # Accuracy \n",
    "    accuracy_estimator = accuracy(group_predictions)\n",
    "    accuracy_scores.append(accuracy_estimator)\n",
    "\n",
    "# Converting the scores into an array\n",
    "accuracy_scores = np.array(accuracy_scores)"
   ]
  },
  {
   "cell_type": "code",
   "execution_count": 757,
   "metadata": {},
   "outputs": [
    {
     "data": {
      "image/png": "[encoded data removed]",
      "text/plain": [
       "<Figure size 720x576 with 1 Axes>"
      ]
     },
     "metadata": {
      "needs_background": "light"
     },
     "output_type": "display_data"
    }
   ],
   "source": [
    "# Plotting the results\n",
    "runs = np.arange(1, 11)\n",
    "plt.figure(figsize = (10, 8))\n",
    "plt.plot(runs, accuracy_scores, c = \"red\")\n",
    "plt.xlabel(\"Runs\", fontsize = 16)\n",
    "plt.ylabel(\"Accuracy Score\", fontsize = 16)\n",
    "plt.title(\"Individual probability of 51\", fontsize = 18)\n",
    "\n",
    "# Draw the average\n",
    "plt.axhline(accuracy_scores.mean(),linestyle = \"--\", color = \"b\", label = \"Mean Run score\")\n",
    "plt.axhline(0.51, linestyle = \"--\",color= \"green\", label = \"Chance of each person\")\n",
    "plt.legend()\n",
    "\n",
    "# Axes\n",
    "plt.yticks(np.linspace(0, 1, 11))\n",
    "\n",
    "plt.grid(True)\n",
    "\n",
    "# Annotation\n",
    "plt.annotate(\"Probability \\n for each person\",xycoords =\"axes fraction\", xytext = [0.15,0.35], xy = [0.51, 0.5], \n",
    "             arrowprops = {\"shrink\": 0.1}, size = 14, c =\"white\"\n",
    "            )\n",
    "\n",
    "plt.annotate(\"Mean accuracy\",xycoords =\"axes fraction\", xytext = [0.15,0.65], xy = [0.5, accuracy_scores.mean()], \n",
    "             arrowprops = {\"shrink\": 0.1}, size = 14, c = \"white\")\n",
    "\n",
    "\n",
    "ax = plt.gcf().gca()\n",
    "ax.set_facecolor(\"black\")\n",
    "plt.savefig(\"./Images/Probability_51.jpg\")\n",
    "plt.show()"
   ]
  },
  {
   "cell_type": "markdown",
   "metadata": {},
   "source": [
    "Though each person in the group had just 51 percent of chance to predict the right answer, we can see that the group combined produced a result far greater than the avergae as shown in the graph. "
   ]
  },
  {
   "cell_type": "code",
   "execution_count": 619,
   "metadata": {},
   "outputs": [],
   "source": [
    "from sklearn.metrics import accuracy_score"
   ]
  },
  {
   "cell_type": "code",
   "execution_count": 620,
   "metadata": {},
   "outputs": [],
   "source": [
    "# Accuracy scores at differnt maximun \n",
    "maximum = np.arange(52, 66, 4)\n",
    "scores_ = []\n",
    "for max_ in maximum:\n",
    "    accuracy_scores = []\n",
    "    for runs in range(10):\n",
    "        group_predictions = [] # The predictions of each group are stored here\n",
    "        means = [] # The means of the estimators\n",
    "        rand = np.random.rand() # The number which whose value in range is being tested.\n",
    "        rand_int = int(rand*100) # Scaled to 100\n",
    "        for groups in range(100): # 100 groups are being trained\n",
    "            predictors = []\n",
    "            for est in range(estimators):# Estimator number\n",
    "                probability = choice(np.arange(51, max_))\n",
    "                tsizes = threshold_sizes(probability, 15)\n",
    "                tstart,tend = max_min(tsizes, population, probability)\n",
    "                tmask = mask_maker(population, tstart, tend)\n",
    "                predictors.append(tmask)\n",
    "\n",
    "            preds = []\n",
    "            # Using the predictors\n",
    "            for predict in predictors:\n",
    "                preds.append(predict[rand_int])\n",
    "            preds = np.array(preds)\n",
    "    \n",
    "            # Group Prediction (using the mean score) \n",
    "            group_predictions.append((preds.mean()>=0.50).astype(np.int32))\n",
    "            means.append(preds.mean())\n",
    "    \n",
    "        # Converting the list into an array\n",
    "        group_predictions = np.array(group_predictions)\n",
    "        means = np.array(means)\n",
    "    \n",
    "        # Accuracy \n",
    "        accuracy_estimator = accuracy(group_predictions)\n",
    "        accuracy_scores.append(accuracy_estimator)\n",
    "\n",
    "    # Converting the scores into an array\n",
    "    accuracy_scores = np.array(accuracy_scores)\n",
    "    # Appending scores\n",
    "    scores_.append(accuracy_scores)\n",
    "\n",
    "scores_ = np.array(scores_)"
   ]
  },
  {
   "cell_type": "code",
   "execution_count": 621,
   "metadata": {},
   "outputs": [
    {
     "data": {
      "text/plain": [
       "array([52, 56, 60, 64])"
      ]
     },
     "execution_count": 621,
     "metadata": {},
     "output_type": "execute_result"
    }
   ],
   "source": [
    "maximum"
   ]
  },
  {
   "cell_type": "code",
   "execution_count": 758,
   "metadata": {},
   "outputs": [
    {
     "data": {
      "image/png": "[encoded data removed]",
      "text/plain": [
       "<Figure size 1296x1440 with 4 Axes>"
      ]
     },
     "metadata": {
      "needs_background": "light"
     },
     "output_type": "display_data"
    }
   ],
   "source": [
    "plt.figure(figsize = (18, 20))\n",
    "for i in range(len(maximum)):\n",
    "    ax = plt.subplot(3, 2, i+1)\n",
    "    \n",
    "    prob = maximum[i]\n",
    "    accuracy_scores = scores_[i]\n",
    "    # Plotting the results\n",
    "    runs = np.arange(1, 11)\n",
    "    ax.plot(runs, accuracy_scores, c = \"red\")\n",
    "    ax.set_xlabel(\"Runs\", fontsize = 16)\n",
    "    ax.set_ylabel(\"Accuracy Score\", fontsize = 16)\n",
    "    ax.set_title(\"Expert probability of \"+str(prob), fontsize = 18)\n",
    "\n",
    "    # Draw the average\n",
    "    ax.axhline(accuracy_scores.mean(),linestyle = \"--\", color = \"b\", label = \"Mean Run score\")\n",
    "    ax.axhline(prob/100, linestyle = \"--\",color= \"green\", label = \"Chance of each person\")\n",
    "    ax.legend()\n",
    "\n",
    "    # Axes\n",
    "    ax.set_yticks(np.linspace(0, 1, 11))\n",
    "\n",
    "    ax.grid(True)\n",
    "\n",
    "    # Annotation\n",
    "    ax.annotate(\"Expert probability\",xycoords =\"axes fraction\", xytext = [0.15,0.35], xy = [0.51, prob/100], \n",
    "             arrowprops = {\"shrink\": 0.1}, size = 14, color = \"white\"\n",
    "            )\n",
    "\n",
    "    ax.annotate(\"Mean accuracy\",xycoords =\"axes fraction\", xytext = [0.15,0.65], xy = [0.5, accuracy_scores.mean()], \n",
    "             arrowprops = {\"shrink\": 0.1}, size = 14, color = \"white\")\n",
    "    \n",
    "    ax.set_facecolor(\"black\")\n",
    "\n",
    "\n",
    "\n",
    "\n",
    "plt.savefig(\"./Images/Different_probabilities.jpg\")\n",
    "plt.show()"
   ]
  },
  {
   "cell_type": "code",
   "execution_count": 613,
   "metadata": {},
   "outputs": [
    {
     "data": {
      "text/plain": [
       "array([0.72, 0.77, 0.01, 0.09, 0.83, 0.76, 0.71, 0.7 , 0.78, 0.88])"
      ]
     },
     "execution_count": 613,
     "metadata": {},
     "output_type": "execute_result"
    }
   ],
   "source": [
    "scores_[1]"
   ]
  },
  {
   "cell_type": "code",
   "execution_count": 608,
   "metadata": {},
   "outputs": [
    {
     "data": {
      "text/plain": [
       "5"
      ]
     },
     "execution_count": 608,
     "metadata": {},
     "output_type": "execute_result"
    }
   ],
   "source": [
    "len(maximum)"
   ]
  },
  {
   "cell_type": "code",
   "execution_count": 628,
   "metadata": {},
   "outputs": [
    {
     "data": {
      "text/plain": [
       "array([0.761, 0.767, 0.906, 0.968])"
      ]
     },
     "execution_count": 628,
     "metadata": {},
     "output_type": "execute_result"
    }
   ],
   "source": [
    "scores_.mean(axis = 1)"
   ]
  },
  {
   "cell_type": "code",
   "execution_count": 750,
   "metadata": {},
   "outputs": [
    {
     "data": {
      "image/png": "[encoded data removed]",
      "text/plain": [
       "<Figure size 720x576 with 1 Axes>"
      ]
     },
     "metadata": {
      "needs_background": "light"
     },
     "output_type": "display_data"
    }
   ],
   "source": [
    "# Other types of visualization \n",
    "# Gradient Barplots\n",
    "fig, ax = plt.subplots(figsize = (10, 8))\n",
    "data = np.c_[maximum, scores_.mean(axis =1)]\n",
    "bar = ax.bar(x = data[:, 0], height = data[:,1])\n",
    "\n",
    "# Gradient \n",
    "def gradient_bars(bars):\n",
    "    grad = np.atleast_2d(np.linspace(0,1,256)).T\n",
    "    ax = bars[0].axes\n",
    "    lim = ax.get_xlim()+ax.get_ylim()\n",
    "    for bar in bars:\n",
    "        bar.set_zorder(1)\n",
    "        bar.set_facecolor(\"none\")\n",
    "        x,y = bar.get_xy()\n",
    "        w, h = bar.get_width(), bar.get_height()\n",
    "        ax.imshow(grad, extent=[x,x+w,y,y+h], aspect=\"auto\", zorder=0)\n",
    "    ax.axis(lim)\n",
    "ax.set_facecolor(\"black\")\n",
    "gradient_bars(bar)\n",
    "\n",
    "# Labeliling the image\n",
    "ax.set_xlabel(\"Expert Probability (%)\", fontsize = 16)\n",
    "ax.set_ylabel(\"Accuracy of group\", fontsize = 16)\n",
    "ax.set_title(\"Accuracy for different Groups\", fontsize = 18)\n",
    "plt.savefig(\"./Images/Accuracy_differnt_groups.png\")"
   ]
  },
  {
   "cell_type": "code",
   "execution_count": null,
   "metadata": {},
   "outputs": [],
   "source": []
  },
  {
   "cell_type": "code",
   "execution_count": 743,
   "metadata": {},
   "outputs": [
    {
     "name": "stderr",
     "output_type": "stream",
     "text": [
      "C:\\Users\\bella\\anaconda3\\lib\\site-packages\\ipykernel_launcher.py:7: RuntimeWarning: Mean of empty slice.\n",
      "  import sys\n",
      "C:\\Users\\bella\\anaconda3\\lib\\site-packages\\numpy\\core\\_methods.py:161: RuntimeWarning: invalid value encountered in double_scalars\n",
      "  ret = ret.dtype.type(ret / rcount)\n"
     ]
    }
   ],
   "source": [
    "# Random model with all people with equal probabilities\n",
    "prob = 51\n",
    "people = 500\n",
    "results = []\n",
    "for i in range(0, people):\n",
    "    random_number = np.random.rand(i)\n",
    "    results.append((random_number<=0.51).mean())"
   ]
  },
  {
   "cell_type": "code",
   "execution_count": 744,
   "metadata": {},
   "outputs": [
    {
     "data": {
      "text/plain": [
       "500"
      ]
     },
     "execution_count": 744,
     "metadata": {},
     "output_type": "execute_result"
    }
   ],
   "source": [
    "len(results)"
   ]
  },
  {
   "cell_type": "code",
   "execution_count": 749,
   "metadata": {},
   "outputs": [
    {
     "data": {
      "image/png": "[encoded data removed]",
      "text/plain": [
       "<Figure size 720x576 with 1 Axes>"
      ]
     },
     "metadata": {
      "needs_background": "light"
     },
     "output_type": "display_data"
    }
   ],
   "source": [
    "# Plot\n",
    "runs=np.arange(1, people+1)\n",
    "# Plot \n",
    "fig, ax = plt.subplots(figsize = (10, 8))\n",
    "ax.plot(runs, results, label = \"Accuracy Score\")\n",
    "\n",
    "# Labelling\n",
    "ax.set_xlabel(\"Number of runs\", fontsize = 14)\n",
    "ax.set_ylabel(\"Accuracy Score\", fontsize = 14)\n",
    "ax.set_title(\"Accuracy Score for runs\", fontsize = 16)\n",
    "\n",
    "# Drawing the convergence point\n",
    "ax.axhline(0.51, linestyle = \"--\", color = \"red\", label = \"Convergence probability - 0.51\")\n",
    "\n",
    "# Ticks \n",
    "ax.set_yticks(np.linspace(0, 1, 11))\n",
    "\n",
    "# Chaning face color\n",
    "ax.set_facecolor(\"black\")\n",
    "plt.legend()\n",
    "plt.savefig(\"./Images/Heartbeat.png\")"
   ]
  },
  {
   "cell_type": "markdown",
   "metadata": {},
   "source": [
    "## Specialization visualization"
   ]
  },
  {
   "cell_type": "code",
   "execution_count": 759,
   "metadata": {},
   "outputs": [],
   "source": [
    "specialized_masks = []\n",
    "for i in range(2):\n",
    "    probability = 51\n",
    "    spec_sizes = threshold_sizes(probability, 15)\n",
    "    spec_start,spec_end = max_min(spec_sizes, population, probability)\n",
    "    spec_mask = mask_maker(population, spec_start, spec_end)\n",
    "    specialized_masks.append(spec_mask)"
   ]
  },
  {
   "cell_type": "code",
   "execution_count": 802,
   "metadata": {},
   "outputs": [
    {
     "data": {
      "image/png": "[encoded data removed]",
      "text/plain": [
       "<Figure size 1440x576 with 4 Axes>"
      ]
     },
     "metadata": {
      "needs_background": "light"
     },
     "output_type": "display_data"
    }
   ],
   "source": [
    "fig= plt.figure(figsize = (20, 8))\n",
    "for index in range(len(specialized_masks)):\n",
    "    ax = plt.subplot(1, 2, index+1)\n",
    "    sns.heatmap(specialized_masks[index].reshape(10, 10), ax = ax, cmap = \"gray\")\n",
    "    for i in range(0, 10):\n",
    "        ax.axhline(i, c = \"black\")\n",
    "        ax.axvline(i, c = \"black\")\n",
    "    ax.axis(\"off\")\n",
    "    ax.set_xlabel(\"Rows\", fontsize = 14)\n",
    "    ax.set_ylabel(\"Columns\", fontsize = 14)\n",
    "    ax.set_title(\"Person \"+str(index+1), fontsize = 18)\n",
    "\n",
    "#plt.savefig(\"./Images/Specialization_heatmap\")"
   ]
  },
  {
   "cell_type": "code",
   "execution_count": null,
   "metadata": {},
   "outputs": [],
   "source": []
  },
  {
   "cell_type": "markdown",
   "metadata": {},
   "source": [
    "### How does group size affect the the proficiency of the group?"
   ]
  },
  {
   "cell_type": "code",
   "execution_count": 82,
   "metadata": {},
   "outputs": [
    {
     "data": {
      "text/plain": [
       "97"
      ]
     },
     "execution_count": 82,
     "metadata": {},
     "output_type": "execute_result"
    }
   ],
   "source": [
    "random_integer = np.random.randint(0, 100)\n",
    "random_integer"
   ]
  },
  {
   "cell_type": "code",
   "execution_count": 8,
   "metadata": {},
   "outputs": [
    {
     "name": "stdout",
     "output_type": "stream",
     "text": [
      "10 - Done!\n",
      "20 - Done!\n",
      "30 - Done!\n",
      "40 - Done!\n",
      "50 - Done!\n",
      "60 - Done!\n",
      "70 - Done!\n",
      "80 - Done!\n",
      "90 - Done!\n",
      "100 - Done!\n",
      "110 - Done!\n",
      "120 - Done!\n",
      "130 - Done!\n",
      "140 - Done!\n",
      "150 - Done!\n",
      "160 - Done!\n",
      "170 - Done!\n",
      "180 - Done!\n",
      "190 - Done!\n"
     ]
    }
   ],
   "source": [
    "random_integer = np.random.randint(0, 100)\n",
    "group_predictions = []\n",
    "for group_size in np.arange(0, 200, 10)[1:]:\n",
    "    run_preds = []\n",
    "    for run_number in range(25):\n",
    "        results = []\n",
    "        masks_ = []\n",
    "        \n",
    "        for i in range(group_size):\n",
    "            prob = choice(np.full((9), 51))\n",
    "            sizes = threshold_sizes(prob, 10)\n",
    "            starts, ends = max_min(sizes,100,prob)\n",
    "            m = mask_maker(100, starts, ends)\n",
    "            masks_.append(m)\n",
    "        \n",
    "        for predictor in masks_:\n",
    "            results.append(predictor[random_integer])\n",
    "    \n",
    "        results = np.array(results)\n",
    "        group_pred = (results.mean() >= 0.5).astype(np.int32)\n",
    "        run_preds.append(group_pred)\n",
    "        \n",
    "    run_preds = np.array(run_preds)\n",
    "    group_accuracy = run_preds.mean()\n",
    "    \n",
    "    group_predictions.append(group_accuracy)\n",
    "    print(group_size, \"- Done!\")\n",
    "group_predictions = np.array(group_predictions)"
   ]
  },
  {
   "cell_type": "code",
   "execution_count": 9,
   "metadata": {},
   "outputs": [
    {
     "data": {
      "text/plain": [
       "array([0.6 , 0.52, 0.68, 0.64, 0.8 , 0.8 , 0.68, 0.72, 0.68, 0.8 , 0.64,\n",
       "       0.76, 0.84, 0.76, 0.68, 0.8 , 0.84, 0.64, 0.64])"
      ]
     },
     "execution_count": 9,
     "metadata": {},
     "output_type": "execute_result"
    }
   ],
   "source": [
    "group_predictions"
   ]
  },
  {
   "cell_type": "code",
   "execution_count": 25,
   "metadata": {},
   "outputs": [
    {
     "data": {
      "text/plain": [
       "array([ 100,  200,  300,  400,  500,  600,  700,  800,  900, 1000])"
      ]
     },
     "execution_count": 25,
     "metadata": {},
     "output_type": "execute_result"
    }
   ],
   "source": [
    "np.arange(0, 100, 100)[1:]"
   ]
  },
  {
   "cell_type": "code",
   "execution_count": 10,
   "metadata": {},
   "outputs": [
    {
     "data": {
      "text/plain": [
       "<matplotlib.collections.PathCollection at 0x1a1ec358b48>"
      ]
     },
     "execution_count": 10,
     "metadata": {},
     "output_type": "execute_result"
    },
    {
     "data": {
      "image/png": "[encoded data removed]",
      "text/plain": [
       "<Figure size 432x288 with 1 Axes>"
      ]
     },
     "metadata": {
      "needs_background": "light"
     },
     "output_type": "display_data"
    }
   ],
   "source": [
    "# Visualization \n",
    "plt.scatter(np.arange(0, 200, 10)[1:], group_predictions)\n"
   ]
  },
  {
   "cell_type": "code",
   "execution_count": null,
   "metadata": {},
   "outputs": [],
   "source": []
  },
  {
   "cell_type": "code",
   "execution_count": 33,
   "metadata": {},
   "outputs": [
    {
     "data": {
      "text/plain": [
       "array([51, 51, 51, 51, 51, 51, 51, 51, 51])"
      ]
     },
     "execution_count": 33,
     "metadata": {},
     "output_type": "execute_result"
    }
   ],
   "source": [
    "np.full((9), 51)"
   ]
  },
  {
   "cell_type": "markdown",
   "metadata": {},
   "source": [
    "### How many people did it take to achieve an accuracy above 90%?"
   ]
  },
  {
   "cell_type": "code",
   "execution_count": 5,
   "metadata": {},
   "outputs": [],
   "source": [
    "from sklearn.metrics import accuracy_score"
   ]
  },
  {
   "cell_type": "code",
   "execution_count": null,
   "metadata": {},
   "outputs": [],
   "source": [
    "acc = 0\n",
    "ideal_group_size = 1\n",
    "random_integer = np.random.randint(0, 100)\n",
    "while acc <=0.9:\n",
    "    p_ = []\n",
    "    for i in range(50):\n",
    "        results = []\n",
    "        masks_ = []\n",
    "        \n",
    "        for i in range(ideal_group_size):\n",
    "            prob = choice(np.full((9), 51))\n",
    "            sizes = threshold_sizes(prob, 10)\n",
    "            starts, ends = max_min(sizes,100,prob)\n",
    "            m = mask_maker(100, starts, ends)\n",
    "            masks_.append(m)\n",
    "        \n",
    "        for predictor in masks_:\n",
    "            results.append(predictor[random_integer])\n",
    "    \n",
    "        results = np.array(results)\n",
    "        group_pred = (results.mean() >= 0.5).astype(np.int32)\n",
    "        p_.append(group_pred)\n",
    "    p_ = np.array(p_)\n",
    "    acc = accuracy(p_)\n",
    "    ideal_group_size += 1"
   ]
  },
  {
   "cell_type": "code",
   "execution_count": null,
   "metadata": {},
   "outputs": [],
   "source": [
    "ideal_group_size"
   ]
  },
  {
   "cell_type": "code",
   "execution_count": null,
   "metadata": {},
   "outputs": [],
   "source": []
  },
  {
   "cell_type": "markdown",
   "metadata": {},
   "source": [
    "### Consider one particular group"
   ]
  },
  {
   "cell_type": "code",
   "execution_count": 11,
   "metadata": {},
   "outputs": [],
   "source": [
    "# Controls \n",
    "groupsize = 100\n",
    "expertprob = 5"
   ]
  },
  {
   "cell_type": "code",
   "execution_count": 143,
   "metadata": {},
   "outputs": [],
   "source": [
    "# Creating the probability array\n",
    "array = np.append(np.full((19), 51), 70)\n",
    "array = np.random.permutation(array)\n"
   ]
  },
  {
   "cell_type": "code",
   "execution_count": 149,
   "metadata": {},
   "outputs": [],
   "source": [
    "# Creating a group \n",
    "results = []\n",
    "masks = []\n",
    "probs = []\n",
    "for person in range(groupsize):\n",
    "    prob = choice(array)\n",
    "    probs.append(prob)\n",
    "    sizes = threshold_sizes(prob, 10)\n",
    "    starts, ends = max_min(sizes,100,prob)\n",
    "    m = mask_maker(100, starts, ends)\n",
    "    masks.append(m)\n",
    "probs = np.array(probs)"
   ]
  },
  {
   "cell_type": "code",
   "execution_count": 150,
   "metadata": {},
   "outputs": [
    {
     "data": {
      "text/plain": [
       "array([51, 51, 51, 51, 51, 51, 51, 51, 51, 51, 51, 51, 51, 51, 51, 51, 51,\n",
       "       51, 51, 51, 51, 51, 51, 51, 51, 51, 51, 51, 51, 51, 51, 51, 51, 51,\n",
       "       70, 51, 51, 51, 51, 51, 51, 51, 51, 51, 51, 51, 51, 51, 51, 51, 51,\n",
       "       51, 51, 51, 51, 51, 51, 51, 51, 51, 51, 51, 51, 51, 70, 51, 51, 51,\n",
       "       51, 51, 51, 51, 51, 51, 51, 51, 51, 51, 51, 51, 51, 51, 51, 51, 51,\n",
       "       51, 51, 51, 51, 51, 51, 51, 51, 51, 51, 51, 51, 51, 51, 51])"
      ]
     },
     "execution_count": 150,
     "metadata": {},
     "output_type": "execute_result"
    }
   ],
   "source": [
    "probs"
   ]
  },
  {
   "cell_type": "code",
   "execution_count": 151,
   "metadata": {},
   "outputs": [
    {
     "data": {
      "text/plain": [
       "array([98,  2], dtype=int64)"
      ]
     },
     "execution_count": 151,
     "metadata": {},
     "output_type": "execute_result"
    }
   ],
   "source": [
    "elements, counts = np.unique(probs, return_counts = True)\n",
    "counts"
   ]
  },
  {
   "cell_type": "code",
   "execution_count": 520,
   "metadata": {},
   "outputs": [
    {
     "data": {
      "text/plain": [
       "array([0, 1], dtype=int8)"
      ]
     },
     "execution_count": 520,
     "metadata": {},
     "output_type": "execute_result"
    }
   ],
   "source": [
    "elements"
   ]
  },
  {
   "cell_type": "code",
   "execution_count": 176,
   "metadata": {},
   "outputs": [],
   "source": [
    "# Examining the group\n",
    "# Waffle chart for this group\n",
    "def waffle_creation(categories, values, height = 10, width = 40, signs = \"\", cmap_name = \"coolwarm\"):\n",
    "    \n",
    "    # Propotions of each category\n",
    "    total = values.sum(axis = 0)\n",
    "    proportions = (values/total)\n",
    "    \n",
    "    # Categories array\n",
    "    categories_array = np.arange(1, len(np.unique(categories))+1)\n",
    "    \n",
    "    # Number of tiles\n",
    "    tiles = height*width\n",
    "    tiles_per_cat = round(proportions*tiles)\n",
    "    \n",
    "    # Sum \n",
    "    SUM = tiles_per_cat.sum()\n",
    "    if SUM>tiles:\n",
    "        diff = SUM-tiles\n",
    "        for i in range(int(diff)):\n",
    "            copy = np.sort(tiles_per_cat.copy())\n",
    "            copy[i] -= 1\n",
    "        tiles_per_cat = copy.copy()[::-1]\n",
    "    \n",
    "    #  Matrix \n",
    "    matrix = np.zeros(tiles)\n",
    "    \n",
    "    \n",
    "    # Cummulative sums \n",
    "    cummulative = np.cumsum(tiles_per_cat).astype(np.int32)\n",
    "    initial = 0\n",
    "    for index, cum_index in enumerate(cummulative):\n",
    "        matrix[initial:cum_index] = categories_array[index]\n",
    "        initial = cum_index\n",
    "    \n",
    "    matrix = matrix.reshape(width, height).T\n",
    "    \n",
    "    # Labels\n",
    "    import matplotlib.patches as mpatches    \n",
    "    colormap = mpl.cm.get_cmap(cmap_name)\n",
    "    color_values = np.append(cummulative, 0)[-1::-1]\n",
    "    \n",
    "    labels_handles = []\n",
    "    for i in range(len(categories)):\n",
    "        col_val = colormap(color_values[i]/tiles)\n",
    "        label_ = categories[i]+\" (\"+str(int(tiles_per_cat[i]))+ signs + \")\"\n",
    "        labels_handles.append(mpatches.Patch(color = col_val, label = label_))\n",
    "    \n",
    "    # Plotting the figure\n",
    "    # Showing the matrix \n",
    "    plt.figure()\n",
    "    plt.matshow(matrix, cmap = colormap)\n",
    "    \n",
    "    # Ticks\n",
    "    ax = plt.gcf().gca()\n",
    "    ax.set_yticks(np.arange(-0.5, height, 1), minor = True)\n",
    "    ax.set_xticks(np.arange(-0.5, width, 1), minor = True)\n",
    "    ax.grid(which = \"minor\", color = \"white\", linestyle = \"-\", linewidth = 1)\n",
    "    \n",
    "    # Legends\n",
    "    plt.legend(handles = labels_handles, loc = \"lower center\", \n",
    "              bbox_to_anchor = (0, -0.3, 0.95, 1))\n",
    "    \n",
    "    plt.show()"
   ]
  },
  {
   "cell_type": "code",
   "execution_count": 230,
   "metadata": {},
   "outputs": [
    {
     "data": {
      "text/plain": [
       "<Figure size 432x288 with 0 Axes>"
      ]
     },
     "metadata": {},
     "output_type": "display_data"
    },
    {
     "data": {
      "image/png": "[encoded data removed]",
      "text/plain": [
       "<Figure size 1152x288 with 1 Axes>"
      ]
     },
     "metadata": {
      "needs_background": "light"
     },
     "output_type": "display_data"
    }
   ],
   "source": [
    "waffle_creation(np.array([\"Ordinary\", \"Expert\"]),vals, cmap_name = \"RdYlBu\")"
   ]
  },
  {
   "cell_type": "code",
   "execution_count": 70,
   "metadata": {},
   "outputs": [],
   "source": [
    "vals = pd.Series(np.array([95, 5]))"
   ]
  },
  {
   "cell_type": "code",
   "execution_count": 67,
   "metadata": {},
   "outputs": [
    {
     "data": {
      "text/plain": [
       "array([0.95, 0.05])"
      ]
     },
     "execution_count": 67,
     "metadata": {},
     "output_type": "execute_result"
    }
   ],
   "source": [
    "(vals/vals.sum(axis = 0))"
   ]
  },
  {
   "cell_type": "code",
   "execution_count": 76,
   "metadata": {},
   "outputs": [
    {
     "data": {
      "text/plain": [
       "0    95\n",
       "1     5\n",
       "dtype: int32"
      ]
     },
     "execution_count": 76,
     "metadata": {},
     "output_type": "execute_result"
    }
   ],
   "source": [
    "vals"
   ]
  },
  {
   "cell_type": "markdown",
   "metadata": {},
   "source": [
    "## Different Group Architectures\n",
    "The aim of the project is to consider different architectures of group and gain insights on how the groups are able to perform better"
   ]
  },
  {
   "cell_type": "markdown",
   "metadata": {},
   "source": [
    "### Mixed group\n",
    "This group predominantly consists of ordinary people with a small number of experts"
   ]
  },
  {
   "cell_type": "code",
   "execution_count": 304,
   "metadata": {},
   "outputs": [],
   "source": [
    "# Controls \n",
    "# Ordinary 0, Expert 1\n",
    "groupsize = 1000\n",
    "expert_per = 5\n",
    "no_experts = round(groupsize*(expert_per/100))\n",
    "people = np.zeros(groupsize, dtype = np.int8)\n",
    "people[-no_experts:] = 1"
   ]
  },
  {
   "cell_type": "code",
   "execution_count": 305,
   "metadata": {},
   "outputs": [],
   "source": [
    "# Proficiencies\n",
    "expert = 75\n",
    "ordinary = 50\n",
    "group = np.where(people == 0, ordinary, expert)"
   ]
  },
  {
   "cell_type": "code",
   "execution_count": 306,
   "metadata": {},
   "outputs": [],
   "source": [
    "# Counts\n",
    "elements, counts = np.unique(people,return_counts = True)"
   ]
  },
  {
   "cell_type": "code",
   "execution_count": 307,
   "metadata": {},
   "outputs": [
    {
     "data": {
      "text/plain": [
       "<Figure size 432x288 with 0 Axes>"
      ]
     },
     "metadata": {},
     "output_type": "display_data"
    },
    {
     "data": {
      "image/png": "[encoded data removed]",
      "text/plain": [
       "<Figure size 1152x288 with 1 Axes>"
      ]
     },
     "metadata": {
      "needs_background": "light"
     },
     "output_type": "display_data"
    }
   ],
   "source": [
    "# Waffle chart\n",
    "ax = waffle_creation([\"Ordinary\", \"Expert\"], pd.Series(counts), cmap_name = \"plasma\" )\n"
   ]
  },
  {
   "cell_type": "code",
   "execution_count": 308,
   "metadata": {},
   "outputs": [],
   "source": [
    "# People creation \n",
    "results = []\n",
    "masks = []\n",
    "for prob in group:\n",
    "    sizes = threshold_sizes(prob, 10)\n",
    "    starts, ends = max_min(sizes,100,prob)\n",
    "    m = mask_maker(100, starts, ends)\n",
    "    masks.append(m)"
   ]
  },
  {
   "cell_type": "code",
   "execution_count": 497,
   "metadata": {},
   "outputs": [
    {
     "data": {
      "image/png": "[encoded data removed]",
      "text/plain": [
       "<Figure size 1440x576 with 4 Axes>"
      ]
     },
     "metadata": {},
     "output_type": "display_data"
    }
   ],
   "source": [
    "# A Expert Heat map vs an ordinary person heat map\n",
    "titles = [\"Expert\",\"Ordinary\"]\n",
    "specializedmasks = [masks[-1], masks[0]]\n",
    "plt.figure(figsize = (20, 8))\n",
    "for index in range(2):\n",
    "    ax = plt.subplot(1, 2, index+1)\n",
    "    plotmask = specializedmasks[index]\n",
    "    sns.heatmap(plotmask.reshape(10, 10), ax = ax, cmap = \"plasma\", alpha = 0.75)\n",
    "    for i in range(0, 10):\n",
    "        ax.axhline(i, c = \"white\")\n",
    "        ax.axvline(i, c = \"white\")\n",
    "    ax.axis(\"off\")\n",
    "    ax.set_xlabel(\"Rows\", fontsize = 14)\n",
    "    ax.set_ylabel(\"Columns\", fontsize = 14)\n",
    "    ax.set_title(titles[index], fontsize = 18)"
   ]
  },
  {
   "cell_type": "code",
   "execution_count": 310,
   "metadata": {},
   "outputs": [],
   "source": [
    "# Predictions of the group \n",
    "# Average probability \n",
    "average_proficiency = group.mean()"
   ]
  },
  {
   "cell_type": "code",
   "execution_count": 311,
   "metadata": {},
   "outputs": [],
   "source": [
    "# Predictions \n",
    "# New prediction mechanism where the masks remain same but the box number changes\n",
    "\n",
    "group_preds = []\n",
    "for testnumber in range(1000):\n",
    "    preds = []\n",
    "    for predictor in masks:\n",
    "        boxnumber = np.random.randint(0, 100)\n",
    "        preds.append(predictor[boxnumber].astype(np.int32))\n",
    "    preds = np.array(preds)\n",
    "    group_preds.append((preds.mean()>=0.50).astype(np.int32))\n",
    "group_preds = np.array(group_preds)"
   ]
  },
  {
   "cell_type": "code",
   "execution_count": 312,
   "metadata": {},
   "outputs": [
    {
     "data": {
      "text/plain": [
       "(0.817, 51.25)"
      ]
     },
     "execution_count": 312,
     "metadata": {},
     "output_type": "execute_result"
    }
   ],
   "source": [
    "group_preds.mean(), average_proficiency"
   ]
  },
  {
   "cell_type": "code",
   "execution_count": 350,
   "metadata": {},
   "outputs": [
    {
     "name": "stdout",
     "output_type": "stream",
     "text": [
      "0.8706\n"
     ]
    }
   ],
   "source": [
    "# New prediction methodology\n",
    "# Box numbers change but the masks remain same\n",
    "runs = 10000\n",
    "er = np.random.randint(0, 100, runs)\n",
    "ps = []\n",
    "for predictor in masks:\n",
    "    maskp = predictor[er].astype(np.int8)\n",
    "    ps.append(maskp)\n",
    "ps = np.array(ps)\n",
    "accuracy = (ps.mean(axis =0)>=0.50).mean()\n",
    "print(accuracy)"
   ]
  },
  {
   "cell_type": "code",
   "execution_count": 364,
   "metadata": {},
   "outputs": [],
   "source": [
    "def people_simulation(population, expertprof = 70, ordinaryprof = 50 ,expertprob = 5):\n",
    "    group = np.zeros(population)\n",
    "    noexperts = round((5/100)*population)\n",
    "    group[-noexperts:] = 1\n",
    "    \n",
    "    # Probabilities\n",
    "    group_probs = np.where(group==0,ordinaryprof, expertprof)\n",
    "    \n",
    "    masksarray = []\n",
    "    for probability in group_probs:\n",
    "        sizes = threshold_sizes(probability, 10)\n",
    "        starts, ends = max_min(sizes,100,prob)\n",
    "        m = mask_maker(100, starts, ends)\n",
    "        masksarray.append(m)\n",
    "    \n",
    "    return np.array(masksarray)\n",
    "    "
   ]
  },
  {
   "cell_type": "code",
   "execution_count": 365,
   "metadata": {},
   "outputs": [],
   "source": [
    "def predictor(masks_array, runs = 100):\n",
    "    boxes = np.random.randint(0, 100, runs)\n",
    "    allps = []\n",
    "    for predictor in masks_array:\n",
    "        maskpreds = predictor[boxes].astype(np.int8)\n",
    "        allps.append(maskpreds)\n",
    "    allps = np.array(allps)\n",
    "    accuracy = (allps.mean(axis =0)>=0.50).mean()\n",
    "    return accuracy"
   ]
  },
  {
   "cell_type": "code",
   "execution_count": 383,
   "metadata": {},
   "outputs": [
    {
     "name": "stdout",
     "output_type": "stream",
     "text": [
      "0.763\n"
     ]
    }
   ],
   "source": [
    "groupsize = 100\n",
    "masks = people_simulation(groupsize)\n",
    "acc = predictor(masks,1000)\n",
    "print(acc)"
   ]
  },
  {
   "cell_type": "code",
   "execution_count": 392,
   "metadata": {},
   "outputs": [],
   "source": [
    "# Group size vs. Maximum Probability\n",
    "# Different group sizes \n",
    "accuracies = []\n",
    "for size in range(10, 1000, 5):\n",
    "    masks = people_simulation(size)\n",
    "    acc = predictor(masks, 1000)     \n",
    "    accuracies.append(acc)\n"
   ]
  },
  {
   "cell_type": "code",
   "execution_count": 519,
   "metadata": {
    "scrolled": false
   },
   "outputs": [
    {
     "data": {
      "image/png": "[encoded data removed]",
      "text/plain": [
       "<Figure size 720x576 with 1 Axes>"
      ]
     },
     "metadata": {},
     "output_type": "display_data"
    }
   ],
   "source": [
    "# PLot the results\n",
    "mpl.style.use(\"ggplot\")\n",
    "plt.figure(figsize = (10, 8))\n",
    "plt.scatter(np.arange(10,1000, 5), accuracies, c = np.arange(10, 1000, 5), cmap = \"plasma\", \n",
    "           s = 50+50*(np.arange(10, 1000, 5)/1000), alpha = 0.75)\n",
    "plt.yticks(np.round(np.linspace(0.5, 1.0, 11), 2))\n",
    "plt.xticks(np.round(np.linspace(-50, 1000, 11), 1),np.arange(0, 1001, 100))\n",
    "\n",
    "# Title\n",
    "plt.title(\"Accuracy achieved for Different Group Sizes\", fontsize = 18)\n",
    "plt.xlabel(\"Accuracy\", fontsize = 16, color = \"gray\")\n",
    "plt.ylabel(\"Group Size\", fontsize = 16, color = \"gray\")\n",
    "\n",
    "# Vertical Line \n",
    "plt.axhline(average_proficiency/100, linestyle = \"--\", color = mpl.cm.get_cmap(\"ocean\")(8/11))\n",
    "\n",
    "# Annotation \n",
    "plt.annotate(\"Group Average Proficiency - \"+str(round(average_proficiency/100, 2)), xy = [200,average_proficiency/100], xytext = [300,(average_proficiency/100)+0.1],\n",
    "            textcoords = \"data\", arrowprops = {\"shrink\":0.04}, size = 13)\n",
    "plt.show()"
   ]
  },
  {
   "cell_type": "code",
   "execution_count": 526,
   "metadata": {},
   "outputs": [],
   "source": [
    "# A group without Specialization \n",
    "answers = []\n",
    "for i in range(100):\n",
    "    answers.append(voting(50, 55).mean())\n",
    "answers  = np.array(answers)"
   ]
  },
  {
   "cell_type": "code",
   "execution_count": 542,
   "metadata": {},
   "outputs": [
    {
     "data": {
      "image/png": "[encoded data removed]",
      "text/plain": [
       "<Figure size 576x396 with 1 Axes>"
      ]
     },
     "metadata": {},
     "output_type": "display_data"
    }
   ],
   "source": [
    "info2 = pd.Series([answers.mean(), 0.55], [\"GroupPerformance\", \"AverageIndividual\"])\n",
    "ax = info2.plot(kind = \"barh\", color = mpl.cm.get_cmap(\"viridis\")(2/4), fontsize = 12)\n",
    "ax.invert_yaxis()\n",
    "for i in ax.patches:\n",
    "    text = str(round(i.get_width(), 2))\n",
    "    plt.annotate(text,xy = [i.get_width(), i.get_y()+0.28], \n",
    "                xytext = [i.get_width()+0.02, i.get_y()+0.28], size = 14)\n",
    "plt.xticks(np.linspace(0, 1, 11))\n",
    "plt.xlabel(\"Performance\", fontsize = 16)\n",
    "ax = plt.gcf().gca()\n",
    "ax.set_position([0.25,0.15, 0.7, 0.7])\n",
    "ax.set_facecolor(\"white\")\n",
    "plt.savefig('./SimulationPictures2'+\"/\"+\"UniformGroup.jpg\")"
   ]
  },
  {
   "cell_type": "code",
   "execution_count": null,
   "metadata": {},
   "outputs": [],
   "source": []
  }
 ],
 "metadata": {
  "kernelspec": {
   "display_name": "Python 3",
   "language": "python",
   "name": "python3"
  },
  "language_info": {
   "codemirror_mode": {
    "name": "ipython",
    "version": 3
   },
   "file_extension": ".py",
   "mimetype": "text/x-python",
   "name": "python",
   "nbconvert_exporter": "python",
   "pygments_lexer": "ipython3",
   "version": "3.7.6"
  }
 },
 "nbformat": 4,
 "nbformat_minor": 4
}
